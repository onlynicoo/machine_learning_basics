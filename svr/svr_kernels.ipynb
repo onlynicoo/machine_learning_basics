{
  "cells": [
    {
      "cell_type": "markdown",
      "metadata": {
        "id": "lA6iz41lm8qm"
      },
      "source": [
        "#  Regression on House Pricing Dataset with SVM\n",
        "We consider a reduced version of a dataset containing house sale prices for King County, which includes Seattle. It includes homes sold between May 2014 and May 2015.\n",
        "\n",
        "https://www.kaggle.com/harlfoxem/housesalesprediction\n",
        "\n",
        "For each house we know 18 house features (e.g., number of bedrooms, number of bathrooms, etc.) plus its price, that is what we would like to predict."
      ]
    },
    {
      "cell_type": "markdown",
      "metadata": {
        "id": "Yl-lTFRum8qo"
      },
      "source": [
        "# Overview\n",
        "\n",
        "In the notebook you will first:\n",
        "- split the data into training, validation, and test\n",
        "- standardize the data\n",
        "\n",
        "You will then be asked to learn various SVM models, in particular:\n",
        "- for each of the kernels ‘linear’, ‘poly’, ‘rbf’, and ‘sigmoid’, you will learn the best model having to choose among various values of some hyperparameters; the choice of hyperparameters must be done with 5-fold cross-validation\n",
        "- choose the best kernel, using a validation approach (not cross-validation)\n",
        "- learn the best SVM model overall\n",
        "\n",
        "You will then be asked to estimate the generalization error of the best SVM model you report.\n",
        "\n",
        "At the end, just for comparison, you will alsk be asked to learn a standard linear regression model (with squared loss), and estimate its generalization error.\n",
        "\n",
        "### IMPORTANT\n",
        "- Note that in each of the above steps you will have to choose the appropriate split of the data (see the first bullet point above)\n",
        "- The code should run without requiring modifications even if some best choice of parameters, changes; for example, you should not pass the best value of hyperparameters \"manually\" (i.e., passing the values as input parameters to the models). The only exception is in the TO DO titled 'ANSWER THE FOLLOWING'\n",
        "- For SVM, since the values to be predicted are all in the thousands of dollars, you will need to always set epsilon=1000\n",
        "- Do not change the printing instructions (other than adding the correct variable name for your code), and do not add printing instructions!"
      ]
    },
    {
      "cell_type": "markdown",
      "metadata": {
        "id": "I6b4FkJim8qp"
      },
      "source": [
        "## TO DO - INSERT YOUR NUMERO DI MATRICOLA BELOW"
      ]
    },
    {
      "cell_type": "code",
      "execution_count": null,
      "metadata": {
        "id": "WdkT2S-rm8qq",
        "tags": []
      },
      "outputs": [],
      "source": [
        "#put here your ``numero di matricola''\n",
        "numero_di_matricola = 2087643"
      ]
    },
    {
      "cell_type": "markdown",
      "metadata": {
        "id": "_2Nfac2Cm8qr"
      },
      "source": [
        "The following code loads all required packages"
      ]
    },
    {
      "cell_type": "code",
      "execution_count": null,
      "metadata": {
        "id": "lks8u3BCm8qr",
        "tags": []
      },
      "outputs": [],
      "source": [
        "#import all packages needed\n",
        "import pandas as pd\n",
        "from sklearn.model_selection import train_test_split\n",
        "from sklearn import preprocessing\n",
        "from sklearn import svm\n",
        "from sklearn import model_selection\n",
        "from sklearn import linear_model"
      ]
    },
    {
      "cell_type": "markdown",
      "metadata": {
        "id": "pWQNmbUZm8qs",
        "tags": []
      },
      "source": [
        "The code below loads the data and remove samples with missing values. It also prints the number of samples in the datasets."
      ]
    },
    {
      "cell_type": "code",
      "execution_count": null,
      "metadata": {
        "colab": {
          "base_uri": "https://localhost:8080/"
        },
        "id": "01xaFN5Qm8qs",
        "outputId": "ee94368e-2338-49c5-a5b7-7260603dbdcc",
        "tags": []
      },
      "outputs": [
        {
          "name": "stdout",
          "output_type": "stream",
          "text": [
            "Total number of samples: 3164\n"
          ]
        }
      ],
      "source": [
        "#load the data - do not change the path below!\n",
        "df = pd.read_csv('kc_house_data.csv', sep = ',')\n",
        "\n",
        "#remove the data samples with missing values (NaN)\n",
        "df = df.dropna()\n",
        "\n",
        "Data = df.values\n",
        "m = Data.shape[0]\n",
        "Y = Data[:m,2]\n",
        "X = Data[:m,3:]\n",
        "\n",
        "print(\"Total number of samples:\",m)"
      ]
    },
    {
      "cell_type": "markdown",
      "metadata": {
        "id": "3RQ0qWBzm8qs",
        "tags": []
      },
      "source": [
        "# Data preprocessing"
      ]
    },
    {
      "cell_type": "markdown",
      "metadata": {
        "id": "G7UM28H5m8qs"
      },
      "source": [
        "## TO DO - SPLIT DATA INTO TRAINING, VALIDATION, AND TESTING, WITH THE FOLLOWING PERCENTAGES: 60%, 20%, 20%\n",
        "\n",
        "Use the train_test_split function from sklearn.model_selection to do it; in every call fix random_state to your numero_di_matricola. At the end, you should store the data in the following variables:\n",
        "- Xtrain, Ytrain: training data\n",
        "- Xval, Yval: validation data\n",
        "- Xtrain_val, Ytrain_val: training and validation data\n",
        "- Xtest, Ytest: test data\n",
        "\n",
        "The code then prints the number of samples in Xtrain, Xval, Xtrain_val, and Xtest\n",
        "\n",
        "IMPORTANT:\n",
        "- first split the data into training+validation and test; the first part of the data in output from train_test_split must correspond to the training+validation\n",
        "- then split training+validation into training and validation; the first part of the data in output from train_test_split must correspond to the training\n"
      ]
    },
    {
      "cell_type": "code",
      "execution_count": null,
      "metadata": {
        "colab": {
          "base_uri": "https://localhost:8080/"
        },
        "id": "tU9WsA-fm8qt",
        "outputId": "4dec5a4e-2626-4690-8e59-92252d29369d",
        "tags": []
      },
      "outputs": [
        {
          "name": "stdout",
          "output_type": "stream",
          "text": [
            "Training size:  2109\n",
            "Validation size:  527\n",
            "Training and validation size 2636\n",
            "Test size 528\n"
          ]
        }
      ],
      "source": [
        "m_train = int(2./3 * m)\n",
        "m_val = int((m - m_train)/2.)\n",
        "m_test = m - m_train - m_val\n",
        "\n",
        "Xtrain_val, Xtest, Ytrain_val, Ytest = train_test_split(X, Y, test_size=m_test/m, random_state=numero_di_matricola) #test size = fraction on data that will be in test (datatest / total_data_1)\n",
        "Xtrain, Xval, Ytrain, Yval = train_test_split(Xtrain_val, Ytrain_and_val, test_size=m_val/(m_val+m_train), random_state=numero_di_matricola) #test size = fraction on data that will be in val (dataval / total_data_2) #split the train_and_val data into training and validation\n",
        "\n",
        "\n",
        "\n",
        "print(\"Training size: \", Xtrain.shape[0])\n",
        "print(\"Validation size: \", Xval.shape[0])\n",
        "print(\"Training and validation size\",Xtrain_val.shape[0])\n",
        "print(\"Test size\",Xtest.shape[0])"
      ]
    },
    {
      "cell_type": "markdown",
      "metadata": {
        "id": "OOKBT_w1m8qt"
      },
      "source": [
        "## TO DO - STANDARDIZE THE DATA\n",
        "\n",
        "Standardize the data using the preprocessing.StandardScaler from scikit learn.\n",
        "\n",
        "If V is the name of the variable storing part of the data, the corresponding standardized version should be stored in V_scaled. For example, the scaled version of Xtrain should be stored in Xtrain_scaled"
      ]
    },
    {
      "cell_type": "code",
      "execution_count": null,
      "metadata": {
        "id": "PSLbLph8m8qu",
        "tags": []
      },
      "outputs": [],
      "source": [
        "scaler = preprocessing.StandardScaler().fit(Xtrain)\n",
        "Xtrain_scaled = scaler.transform(Xtrain) #scaled training data\n",
        "Xtrain_val_scaled = scaler.transform(Xtrain_val) #scaled training and validation data\n",
        "Xval_scaled = scaler.transform(Xval) #scaled validation data\n",
        "Xtest_scaled = scaler.transform(Xtest) #scaled test data"
      ]
    },
    {
      "cell_type": "markdown",
      "metadata": {
        "id": "av6meKTvm8qu",
        "tags": []
      },
      "source": [
        "# SVM models: learning the best model for each kernel"
      ]
    },
    {
      "cell_type": "markdown",
      "metadata": {
        "id": "jI3rngKhm8qu"
      },
      "source": [
        "## TO DO - CHOOSE THE BEST HYPERPARAMETERS FOR LINEAR KERNEL\n",
        "\n",
        "Consider svm.SVR and linear kernel. Consider the following hyperparameters and their values:\n",
        "- C: 0.1, 1, 10, 100, 1000\n",
        "\n",
        "Leave all other input parameters to default.\n",
        "\n",
        "Find the best value of the hyperparameters using 5-fold cross validation. Use model_selection.GridSearchCV to perform the cross-validation.\n",
        "\n",
        "Print the best value of the hyperparameters (they are in the attribute best_params_ from GridSearchCV)"
      ]
    },
    {
      "cell_type": "code",
      "execution_count": null,
      "metadata": {
        "colab": {
          "base_uri": "https://localhost:8080/"
        },
        "id": "rUsx4QrRm8qv",
        "outputId": "7607755f-3392-4b60-f1d8-1b9a7d35300c"
      },
      "outputs": [
        {
          "name": "stdout",
          "output_type": "stream",
          "text": [
            "\n",
            "Linear SVM\n",
            "Best value for hyperparameters:  {'C': 1000, 'kernel': 'linear'}\n"
          ]
        }
      ],
      "source": [
        "print(\"\\nLinear SVM\")\n",
        "\n",
        "# Define parameters\n",
        "param_grid_linear = {'C': [0.1, 1, 10, 100, 1000], 'kernel': ['linear']}\n",
        "\n",
        "# Create an SVR object\n",
        "linear_svr = svm.SVR()\n",
        "\n",
        "# Create a GridSearchCV object with 5-fold cross-validation\n",
        "grid_search_linear = model_selection.GridSearchCV(linear_svr, param_grid_linear, cv=5)\n",
        "\n",
        "grid_search_linear.fit(Xtrain_scaled, Ytrain)\n",
        "\n",
        "best_param_linear = grid_search_linear.best_params_\n",
        "\n",
        "print(\"Best value for hyperparameters: \", best_param_linear)\n"
      ]
    },
    {
      "cell_type": "markdown",
      "metadata": {
        "id": "FosJab6Rm8qv"
      },
      "source": [
        "## TO DO - LEARN A MODEL WITH LINEAR KERNEL AND BEST CHOICE OF HYPERPARAMETERS\n",
        "\n",
        "This model will be compared with the best models with other kernels using validation (not cross validation).\n",
        "\n",
        "DO NOT PASS PARAMETERS BY HARD-CODING THEM IN THE CODE.\n",
        "\n",
        "Print the training score of the best model."
      ]
    },
    {
      "cell_type": "code",
      "execution_count": null,
      "metadata": {
        "colab": {
          "base_uri": "https://localhost:8080/"
        },
        "id": "mPzg1bLwm8qv",
        "outputId": "10694980-21d3-40f3-9e56-c074f25eaaa0"
      },
      "outputs": [
        {
          "name": "stdout",
          "output_type": "stream",
          "text": [
            "Training score:  0.328223583595309\n"
          ]
        }
      ],
      "source": [
        "best_linear_svm_model = svm.SVR(kernel=\"linear\", C=best_param_linear['C'])\n",
        "best_linear_svm_model.fit(Xtrain_scaled, Ytrain)\n",
        "best_linear_svm_model_training_score = 1 - best_linear_svm_model.score(Xtrain_scaled, Ytrain)\n",
        "\n",
        "print(\"Training score: \", best_linear_svm_model_training_score)"
      ]
    },
    {
      "cell_type": "markdown",
      "metadata": {
        "id": "staSoJE4m8qw"
      },
      "source": [
        "## TO DO - CHOOSE THE BEST HYPERPARAMETERS FOR POLY KERNEL\n",
        "\n",
        "Consider svm.SVR and polynomial kernel. Consider the following hyperparameters and their values:\n",
        "- C: 0.1, 1, 10, 100, 1000\n",
        "- degree: 2, 3, 4\n",
        "\n",
        "Leave all other input parameters to default.\n",
        "\n",
        "Find the best value of the hyperparameters using 5-fold cross validation. Use model_selection.GridSearchCV to perform the cross-validation.\n",
        "\n",
        "Print the best value of the hyperparameters."
      ]
    },
    {
      "cell_type": "code",
      "execution_count": null,
      "metadata": {
        "colab": {
          "base_uri": "https://localhost:8080/"
        },
        "id": "NV0JSAZsm8qw",
        "outputId": "6893e69a-8960-4174-8a99-be2c873517c1",
        "tags": []
      },
      "outputs": [
        {
          "name": "stdout",
          "output_type": "stream",
          "text": [
            "\n",
            "Poly SVM\n",
            "Best value for hyperparameters:  {'C': 1000, 'degree': 3, 'kernel': 'poly'}\n"
          ]
        }
      ],
      "source": [
        "print(\"\\nPoly SVM\")\n",
        "\n",
        "# Define parameters\n",
        "param_grid_poly = {'C': [0.1, 1, 10, 100, 1000], 'kernel': ['poly'], 'degree':[2, 3, 4]}\n",
        "\n",
        "# Create an SVM object\n",
        "poly_svr = svm.SVR()\n",
        "\n",
        "# Create a GridSearchCV object with 5-fold cross-validation\n",
        "grid_search_poly = model_selection.GridSearchCV(poly_svr, param_grid_poly, cv=5)\n",
        "\n",
        "grid_search_poly.fit(Xtrain_scaled, Ytrain)\n",
        "\n",
        "best_param_poly = grid_search_poly.best_params_\n",
        "\n",
        "print(\"Best value for hyperparameters: \",  best_param_poly)"
      ]
    },
    {
      "cell_type": "markdown",
      "metadata": {
        "id": "2_Pv6qmnm8qw",
        "tags": []
      },
      "source": [
        "## TO DO - LEARN A MODEL WITH POLY KERNEL AND BEST CHOICE OF HYPERPARAMETERS\n",
        "\n",
        "This model will be compared with the best models with other kernels using validation (not cross validation).\n",
        "\n",
        "DO NOT PASS PARAMETERS BY HARD-CODING THEM IN THE CODE.\n",
        "\n",
        "Print the training score of the best model."
      ]
    },
    {
      "cell_type": "code",
      "execution_count": null,
      "metadata": {
        "colab": {
          "base_uri": "https://localhost:8080/"
        },
        "id": "NSeQgr5Xm8qx",
        "outputId": "d2d24b87-70fc-40e2-b922-ae37f114f99c",
        "tags": []
      },
      "outputs": [
        {
          "name": "stdout",
          "output_type": "stream",
          "text": [
            "Training score:  0.43843809706826264\n"
          ]
        }
      ],
      "source": [
        "best_poly_svm_model = svm.SVR(kernel=\"poly\", C=best_param_poly['C'], degree=best_param_poly['degree'])\n",
        "best_poly_svm_model.fit(Xtrain_scaled, Ytrain)\n",
        "best_poly_svm_model_training_score = 1 - best_poly_svm_model.score(Xtrain_scaled, Ytrain)\n",
        "\n",
        "print(\"Training score: \", best_poly_svm_model_training_score)"
      ]
    },
    {
      "cell_type": "markdown",
      "metadata": {
        "id": "a4MDlsMtm8qx"
      },
      "source": [
        "## TO DO - CHOOSE THE BEST HYPERPARAMETERS FOR RBF KERNEL\n",
        "\n",
        "Consider svm.SVR and RBF kernel. Consider the following hyperparameters and their values:\n",
        "- C: 0.1, 1, 10, 100, 1000\n",
        "- gamma: 0.01\n",
        "\n",
        "Leave all other input parameters to default.\n",
        "\n",
        "Find the best value of the hyperparameters using 5-fold cross validation. Use model_selection.GridSearchCV to perform the cross-validation.\n",
        "\n",
        "Print the best value of the hyperparameters."
      ]
    },
    {
      "cell_type": "code",
      "execution_count": null,
      "metadata": {
        "colab": {
          "base_uri": "https://localhost:8080/"
        },
        "id": "dyjY8gJlm8qy",
        "outputId": "68a22892-a4a3-45cc-f074-6945f4d20317",
        "tags": []
      },
      "outputs": [
        {
          "name": "stdout",
          "output_type": "stream",
          "text": [
            "\n",
            "RBF SVM\n",
            "Best value for hyperparameters:  {'C': 1000, 'gamma': 0.01, 'kernel': 'rbf'}\n"
          ]
        }
      ],
      "source": [
        "print(\"\\nRBF SVM\")\n",
        "\n",
        "# Define parameters\n",
        "param_grid_rbf = {'C': [0.1, 1, 10, 100, 1000], 'kernel': ['rbf'], 'gamma':[0.01]}\n",
        "\n",
        "# Create an SVM object\n",
        "rbf_svr = svm.SVR()\n",
        "\n",
        "# Create a GridSearchCV object with 5-fold cross-validation\n",
        "grid_search_rbf = model_selection.GridSearchCV(rbf_svr, param_grid_rbf, cv=5)\n",
        "\n",
        "grid_search_rbf.fit(Xtrain_scaled, Ytrain)\n",
        "\n",
        "best_param_rbf = grid_search_rbf.best_params_\n",
        "\n",
        "\n",
        "print(\"Best value for hyperparameters: \", best_param_rbf)"
      ]
    },
    {
      "cell_type": "markdown",
      "metadata": {
        "id": "ESzYge5dm8qy"
      },
      "source": [
        "## TO DO - LEARN A MODEL WITH RBF KERNEL AND BEST CHOICE OF HYPERPARAMETERS\n",
        "\n",
        "This model will be compared with the best models with other kernels using validation (not cross validation).\n",
        "\n",
        "DO NOT PASS PARAMETERS BY HARD-CODING THEM IN THE CODE.\n",
        "\n",
        "Print the training score of the best model."
      ]
    },
    {
      "cell_type": "code",
      "execution_count": null,
      "metadata": {
        "colab": {
          "base_uri": "https://localhost:8080/"
        },
        "id": "qXC7H67km8qy",
        "outputId": "e43a1f54-8ea2-4222-8259-34b6e1cc6c8e",
        "tags": []
      },
      "outputs": [
        {
          "name": "stdout",
          "output_type": "stream",
          "text": [
            "Training score:  0.8625983785245206\n"
          ]
        }
      ],
      "source": [
        "best_rbf_svm_model = svm.SVR(kernel=\"rbf\", C=best_param_rbf['C'], gamma=best_param_rbf['gamma'])\n",
        "best_rbf_svm_model.fit(Xtrain_scaled, Ytrain)\n",
        "best_rbf_svm_model_training_score = 1 - best_rbf_svm_model.score(Xtrain_scaled, Ytrain)\n",
        "\n",
        "print(\"Training score: \", best_rbf_svm_model_training_score)"
      ]
    },
    {
      "cell_type": "markdown",
      "metadata": {
        "id": "Dt1J79Wum8qy",
        "tags": []
      },
      "source": [
        "## TO DO - CHOOSE THE BEST HYPERPARAMETERS FOR SIGMOID KERNEL\n",
        "\n",
        "Consider svm.SVR and sigmoid kernel. Consider the following hyperparameters and their values:\n",
        "- C: 0.1, 1, 10, 100, 1000\n",
        "- gamma: 0.01\n",
        "- coef0: 0, 1\n",
        "\n",
        "Leave all other input parameters to default.\n",
        "\n",
        "Find the best value of the hyperparameters using 5-fold cross validation. Use model_selection.GridSearchCV to perform the cross-validation.\n",
        "\n",
        "Print the best value of the hyperparameters."
      ]
    },
    {
      "cell_type": "code",
      "execution_count": null,
      "metadata": {
        "colab": {
          "base_uri": "https://localhost:8080/"
        },
        "id": "Ogmhozlsm8qz",
        "outputId": "a9daaa40-3da5-4a0f-bc76-d056510bac87",
        "tags": []
      },
      "outputs": [
        {
          "name": "stdout",
          "output_type": "stream",
          "text": [
            "\n",
            "Sigmoid SVM\n",
            "Best value for hyperparameters:  {'C': 1000, 'coef0': 0, 'gamma': 0.01, 'kernel': 'sigmoid'}\n"
          ]
        }
      ],
      "source": [
        "print(\"\\nSigmoid SVM\")\n",
        "# Define parameters\n",
        "param_grid_sigmoid = {'C': [0.1, 1, 10, 100, 1000], 'kernel': ['sigmoid'], 'gamma':[0.01], 'coef0':[0,1]}\n",
        "\n",
        "# Create an SVM object\n",
        "sigmoid_svr = svm.SVR()\n",
        "\n",
        "# Create a GridSearchCV object with 5-fold cross-validation\n",
        "grid_search_sigmoid = model_selection.GridSearchCV(sigmoid_svr, param_grid_sigmoid, cv=5)\n",
        "\n",
        "grid_search_sigmoid.fit(Xtrain_scaled, Ytrain)\n",
        "\n",
        "best_param_sigmoid = grid_search_sigmoid.best_params_\n",
        "\n",
        "print(\"Best value for hyperparameters: \", best_param_sigmoid)"
      ]
    },
    {
      "cell_type": "markdown",
      "metadata": {
        "id": "KmM3NMbzm8qz",
        "tags": []
      },
      "source": [
        "## TO DO - LEARN A MODEL WITH SIGMOID KERNEL AND BEST CHOICE OF HYPERPARAMETERS\n",
        "\n",
        "This model will be compared with the best models with other kernels using validation (not cross validation).\n",
        "\n",
        "DO NOT PASS PARAMETERS BY HARD-CODING THEM IN THE CODE.\n",
        "\n",
        "Print the training score of the best model."
      ]
    },
    {
      "cell_type": "code",
      "execution_count": null,
      "metadata": {
        "colab": {
          "base_uri": "https://localhost:8080/"
        },
        "id": "E4lGtOCZm8qz",
        "outputId": "95bcbf32-1692-4bd8-bc3b-b0d63d3e112e",
        "tags": []
      },
      "outputs": [
        {
          "name": "stdout",
          "output_type": "stream",
          "text": [
            "Training score:  0.8757985981828674\n"
          ]
        }
      ],
      "source": [
        "best_sigmoid_svm_model = svm.SVR(kernel=\"sigmoid\", C=best_param_sigmoid['C'], gamma=best_param_sigmoid['gamma'], coef0=best_param_sigmoid['coef0'])\n",
        "best_sigmoid_svm_model.fit(Xtrain_scaled, Ytrain)\n",
        "best_sigmoid_svm_model_training_score = 1 - best_sigmoid_svm_model.score(Xtrain_scaled, Ytrain)\n",
        "\n",
        "\n",
        "print(\"Training score: \", best_sigmoid_svm_model_training_score)"
      ]
    },
    {
      "cell_type": "markdown",
      "metadata": {
        "id": "o7U6XJY1m8q0",
        "tags": []
      },
      "source": [
        "## TO DO - USE VALIDATION TO CHOOSE THE BEST MODEL AMONG THE ONES LEARNED FOR THE VARIOUS KERNELS\n",
        "\n",
        "Use validation to choose the best model among the four ones (one for each kernel) you have learned above.\n",
        "\n",
        "Print, following exactly the order described here, with 1 value for each line:\n",
        "- the validation score of SVM with linear kernel (the template below does not include such print)\n",
        "- the validation score of SVM with polynomial kernel (the template below does not include such print)\n",
        "- the validation score of SVM with rbf kernel (the template below does not include such print)\n",
        "- the validation score of SVM with sigmoid kernel (the template below does not include such print)\n",
        "- the best kernel (e.g., sigmoid)\n",
        "- the validation score of the best kernel\n",
        "\n",
        "For the first 4 prints, use the format: \"kernel validation score: \". For example, for linear kernel \"Linear validation score: \", for rbf \"rbf validation score: \""
      ]
    },
    {
      "cell_type": "code",
      "execution_count": null,
      "metadata": {
        "colab": {
          "base_uri": "https://localhost:8080/"
        },
        "id": "n-SdEoEam8q0",
        "outputId": "f26ec3e1-14e3-45b5-cb45-b736e0207ea3",
        "tags": []
      },
      "outputs": [
        {
          "name": "stdout",
          "output_type": "stream",
          "text": [
            "\n",
            "VALIDATION TO CHOOSE SVM KERNEL\n",
            "Linear validation score: 0.39721680602394904\n",
            "Polynimial validation score: 0.3132530598697222\n",
            "rbf validation score: 0.8814999765226084\n",
            "Sigmoid validation score: 0.8794327593708887\n",
            "Best kernel:  RBF\n",
            "Validation score of best kernel:  0.8814999765226084\n"
          ]
        }
      ],
      "source": [
        "print(\"\\nVALIDATION TO CHOOSE SVM KERNEL\")\n",
        "\n",
        "val_score_linear = 1 - best_linear_svm_model.score(Xval_scaled,Yval)\n",
        "val_score_poly = 1 - best_poly_svm_model.score(Xval_scaled,Yval)\n",
        "val_score_rbf = 1 - best_rbf_svm_model.score(Xval_scaled,Yval)\n",
        "val_score_sigmoid = 1 - best_sigmoid_svm_model.score(Xval_scaled,Yval)\n",
        "\n",
        "print(\"Linear validation score:\", val_score_linear)\n",
        "print(\"Polynimial validation score:\", val_score_poly)\n",
        "print(\"rbf validation score:\", val_score_rbf)\n",
        "print(\"Sigmoid validation score:\", val_score_sigmoid)\n",
        "\n",
        "models_parameters_and_score = [(\"linear\", val_score_linear, best_param_linear)\n",
        "                                , (\"polynimial\", val_score_poly, best_param_poly)\n",
        "                                , (\"RBF\", val_score_rbf, best_param_rbf)\n",
        "                                , (\"sigmoid\", val_score_sigmoid, best_param_sigmoid)\n",
        "                              ]\n",
        "best_kernel_tuple = max(models_parameters_and_score, key=lambda x: x[1])\n",
        "\n",
        "print(\"Best kernel: \", best_kernel_tuple[0])\n",
        "print(\"Validation score of best kernel: \", best_kernel_tuple[1])"
      ]
    },
    {
      "cell_type": "markdown",
      "metadata": {
        "id": "xlWFzMTUm8q0"
      },
      "source": [
        "## TO DO - LEARN THE FINAL MODEL FOR WHICH YOU WANT TO ESTIMATE THE GENERALIZATION ERROR\n",
        "\n",
        "Learn the final model (i.e., the one you would use to make predictions about future data).\n",
        "\n",
        "Print the score of the model on the data used to learn it."
      ]
    },
    {
      "cell_type": "code",
      "execution_count": null,
      "metadata": {
        "colab": {
          "base_uri": "https://localhost:8080/"
        },
        "id": "K914poYZm8q0",
        "outputId": "89092d74-155d-463a-b058-e33707eb539d",
        "tags": []
      },
      "outputs": [
        {
          "name": "stdout",
          "output_type": "stream",
          "text": [
            "\n",
            "TRAINING SCORE BEST MODEL\n",
            "Score of the best model on the data used to learn it:  0.8378934821404114\n"
          ]
        }
      ],
      "source": [
        "print(\"\\nTRAINING SCORE BEST MODEL\")\n",
        "\n",
        "if best_kernel_tuple[0] == \"Linear\":\n",
        "  best_model = svm.SVR(kernel=\"linear\", C=best_kernel_tuple[2]['C'])\n",
        "\n",
        "elif best_kernel_tuple[0] == \"Polynomial\":\n",
        "  best_model = svm.SVR(kernel=\"poly\", C=best_kernel_tuple[2]['C'], degree=best_kernel_tuple[2]['degree'])\n",
        "\n",
        "elif best_kernel_tuple[0] == \"RBF\":\n",
        "  best_model = svm.SVR(kernel=\"rbf\", C=best_kernel_tuple[2]['C'], gamma=best_kernel_tuple[2]['gamma'])\n",
        "\n",
        "else:\n",
        "  best_model = svm.SVR(kernel=\"sigmoid\", C=best_kernel_tuple[2]['C'], gamma=best_kernel_tuple[2]['gamma'], coef0=best_kernel_tuple[2]['coef0'])\n",
        "\n",
        "best_model.fit(Xtrain_val_scaled, Ytrain_val)\n",
        "best_model_training_score = 1 - best_model.score(Xtrain_val_scaled, Ytrain_val)\n",
        "\n",
        "print(\"Score of the best model on the data used to learn it: \", best_model_training_score)"
      ]
    },
    {
      "cell_type": "markdown",
      "metadata": {
        "id": "KJmYib2Gm8q1",
        "tags": []
      },
      "source": [
        "## TO DO - PRINT THE ESTIMATE  OF THE GENERALIZATION ERROR FOR THE FINAL MODEL\n",
        "\n",
        "Print the estimate of the generalization \"score\" for the final model. The generalization \"score\" is the score computed on the data used to estimate the generalization error."
      ]
    },
    {
      "cell_type": "code",
      "execution_count": null,
      "metadata": {
        "colab": {
          "base_uri": "https://localhost:8080/"
        },
        "id": "kz2IL3Mkm8q1",
        "outputId": "38ffb450-5d88-4ff8-8537-7260adc84cc4",
        "tags": []
      },
      "outputs": [
        {
          "name": "stdout",
          "output_type": "stream",
          "text": [
            "\n",
            "GENERALIZATION SCORE BEST MODEL\n",
            "Estimate of the generalization score for best SVM model:  0.7461346917155992\n"
          ]
        }
      ],
      "source": [
        "print(\"\\nGENERALIZATION SCORE BEST MODEL\")\n",
        "best_model_generalization_score = 1 - best_model.score(Xtest_scaled, Ytest)\n",
        "\n",
        "print(\"Estimate of the generalization score for best SVM model: \", best_model_generalization_score)"
      ]
    },
    {
      "cell_type": "markdown",
      "metadata": {
        "id": "9oD9m2LSm8q1",
        "tags": []
      },
      "source": [
        "## TO DO - ANSWER THE FOLLOWING\n",
        "\n",
        "Print the training score (score on data used to train the model) and the generalization score (score on data used to estimate the generalization error) of the final SVM model THAT YOU OBTAIN WHEN YOU RUN THE CODE, one per line, printing the smallest one first. NOTE: THE VALUES HERE SHOULD BE HARDCODED\n",
        "\n",
        "Print you answer (yes/no) to the following question: does the relation (i.e., smaller, larger) between the training score and the generalization score agree with the theory?\n",
        "\n",
        "Print your motivation for the yes/no answer above, using at most 500 characters."
      ]
    },
    {
      "cell_type": "code",
      "execution_count": null,
      "metadata": {
        "colab": {
          "base_uri": "https://localhost:8080/"
        },
        "id": "W6NO4RCLm8q1",
        "outputId": "28a94b6d-81c2-403c-b660-9f09096b393e",
        "tags": []
      },
      "outputs": [
        {
          "name": "stdout",
          "output_type": "stream",
          "text": [
            "\n",
            "ANSWER\n",
            "Generalization score: 0.7461346917155992\n",
            "Training score: 0.8378934821404114\n",
            "the relation between the training score and the generalization score agree with the theory since we generally expect the model to perform better on data that it has already seen and on which it has optimized it's parameters.\n"
          ]
        }
      ],
      "source": [
        "print(\"\\nANSWER\")\n",
        "\n",
        "print(\"Generalization score: 0.7461346917155992\")\n",
        "print(\"Training score: 0.8378934821404114\")\n",
        "\n",
        "motivation = \"the relation between the training score and the generalization score agree with the theory since we generally expect the model to perform better on data that it has already seen and on which it has optimized it's parameters.\"\n",
        "\n",
        "print(motivation)"
      ]
    },
    {
      "cell_type": "markdown",
      "metadata": {
        "id": "j5cYr87Nm8q1",
        "tags": []
      },
      "source": [
        "## TO DO: LEARN A STANDARD LINEAR MODEL\n",
        "Learn a standard linear model using scikit learn.\n",
        "\n",
        "Print the score of the model on the data used to learn it.\n",
        "\n",
        "Print the generalization \"score\" of the model."
      ]
    },
    {
      "cell_type": "code",
      "execution_count": null,
      "metadata": {
        "id": "FjUYWioKm8q1"
      },
      "outputs": [],
      "source": [
        "print(\"\\nLR MODEL\")\n",
        "# Create a Linear Regression model\n",
        "linear_regression_model = linear_model.LinearRegression()\n",
        "\n",
        "# Train the model on the training set\n",
        "linear_regression_model.fit(Xtrain_val_scaled, Ytrain_val)\n",
        "\n",
        "# Make predictions on the train set\n",
        "y_pred_train = linear_regression_model.predict(Xtrain_scaled)\n",
        "\n",
        "# Make predictions on the test set\n",
        "y_pred_test = linear_regression_model.predict(Xtest_scaled)\n",
        "\n",
        "# Score on train data\n",
        "score_train = linear_regression_model.score(Xtrain_val_scaled, Ytrain_val)\n",
        "\n",
        "# Score on test data\n",
        "score_test = linear_regression_model.score(Xtest_scaled, Ytest)\n",
        "\n",
        "\n",
        "print(\"Score of LR model on data used to learng it: \", score_train)\n",
        "print(\"Generalization score of LR model: \", score_train)"
      ]
    }
  ],
  "metadata": {
    "anaconda-cloud": {},
    "celltoolbar": "Raw Cell Format",
    "colab": {
      "provenance": []
    },
    "kernelspec": {
      "display_name": "Python 3 (ipykernel)",
      "language": "python",
      "name": "python3"
    },
    "language_info": {
      "codemirror_mode": {
        "name": "ipython",
        "version": 3
      },
      "file_extension": ".py",
      "mimetype": "text/x-python",
      "name": "python",
      "nbconvert_exporter": "python",
      "pygments_lexer": "ipython3",
      "version": "3.11.4"
    }
  },
  "nbformat": 4,
  "nbformat_minor": 0
}
